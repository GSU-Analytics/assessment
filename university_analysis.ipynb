{
 "cells": [
  {
   "cell_type": "markdown",
   "metadata": {},
   "source": [
    "# Introduction\n",
    "\n",
    "This notebook is designed to assess your skills in working with databases and data analysis using the Student Success Analytics Team's preferred tech stack: SQL and Python.\n",
    "\n",
    "Please note that this is a general assessment intended to help us understand your strengths. You are welcome to skip questions. Incomplete assessments will **not** disqualify you from consideration for the position. If you have any questions or need clarification, do not hesitate to contact us. We want you to succeed and will do our best to support you!\n",
    "\n",
    "Once you are done, follow the instructions at the end of the notebook and in the README.md file in the repository where this notebook is located to submit your assessment. Good luck!"
   ]
  },
  {
   "cell_type": "markdown",
   "metadata": {},
   "source": [
    "# Updated Overview of `university.db`\n",
    "\n",
    "The `university.db` database is a mock SQLite database designed to simulate a collection of university data tables. It contains information about students, instructors, courses, grades, and more. This database is structured to provide realistic data for training purposes, assessing potential hires, and conducting exploratory data analysis.\n",
    "\n",
    "## Database Schema\n",
    "\n",
    "The database consists of the following tables:\n",
    "\n",
    "### 1. **`student_main`**\n",
    "- **Description**: Contains details of students enrolled at the university.\n",
    "- **Key Columns**:\n",
    "  - `student_id`: Unique identifier for each student (primary key).\n",
    "  - `last_name`, `first_name`: Student's name details.\n",
    "  - `gender`, `ethnicity`: Demographic information.\n",
    "  - `address`, `us_citizen`, `us_resident`, `state_resident`: Residential and citizenship details.\n",
    "  - `pell_recipient`, `us_veteran`: Indicators for Pell Grant recipients and veteran status.\n",
    "\n",
    "### 2. **`instructor_main`**\n",
    "- **Description**: Stores details about university instructors.\n",
    "- **Key Columns**:\n",
    "  - `employee_id`: Unique identifier for each instructor (primary key).\n",
    "  - `faculty_code`: Foreign key referencing `faculty_code_validation_table.faculty_code`, representing the type of faculty (e.g., tenure-track, adjunct).\n",
    "  - `full_time_indicator`: Binary indicator for full-time (1) or part-time (0) status.\n",
    "\n",
    "### 3. **`faculty_code_validation_table`**\n",
    "- **Description**: Lookup table for validating `faculty_code` values.\n",
    "- **Key Columns**:\n",
    "  - `faculty_code`: Three-letter code for faculty type (primary key).\n",
    "  - `faculty_description`: Description of the faculty type.\n",
    "\n",
    "### 4. **`courses`**\n",
    "- **Description**: Represents courses offered at the university.\n",
    "- **Key Columns**:\n",
    "  - `id`: Unique identifier for each course (primary key).\n",
    "  - `term_code`: Academic term (e.g., Fall 2023).\n",
    "  - `major_abbreviation`: Department offering the course (e.g., MATH, BIO).\n",
    "  - `course_number`, `section_code`: Course and section identifiers.\n",
    "  - `employee_id`: Foreign key referencing `instructor_main.employee_id`, indicating the instructor teaching the course.\n",
    "  - `delivery_code`: Mode of instruction (In-person, Hybrid, Online).\n",
    "- **Relationships**:\n",
    "  - Linked to `instructor_main` through `employee_id`.\n",
    "\n",
    "### 5. **`student_grades`**\n",
    "- **Description**: Records grades earned by students in various courses.\n",
    "- **Key Columns**:\n",
    "  - `id`: Unique identifier for each grade record (primary key).\n",
    "  - `student_id`: Foreign key referencing `student_main.student_id`.\n",
    "  - `section_code`: Foreign key referencing `courses.section_code`.\n",
    "  - `gpa`: Grade point average for the course.\n",
    "  - `withdrawal`: Binary indicator for course withdrawal (1 for withdrawal, 0 otherwise).\n",
    "\n",
    "### 6. **`student_attributes`**\n",
    "- **Description**: Tracks additional attributes assigned to students.\n",
    "- **Key Columns**:\n",
    "  - `id`: Unique identifier for each attribute record (primary key).\n",
    "  - `student_id`: Foreign key referencing `student_main.student_id`.\n",
    "  - `term_code`: Academic term for the attribute.\n",
    "  - `attribute_code`: Foreign key referencing `attribute_code_validation_table.attribute_code`, indicating the assigned attribute (e.g., ESL, Honors).\n",
    "\n",
    "### 7. **`attribute_code_validation_table`**\n",
    "- **Description**: Lookup table for validating `attribute_code` values.\n",
    "- **Key Columns**:\n",
    "  - `attribute_code`: Three-letter code for student attributes (primary key).\n",
    "  - `attribute_description`: Description of the attribute.\n",
    "\n",
    "\n",
    "## Relationships Between Tables\n",
    "\n",
    "The tables and relationships in the `university.db` database are related as follows:\n",
    "\n",
    "![University Database Schema](schema_diagram.png)\n"
   ]
  },
  {
   "cell_type": "markdown",
   "metadata": {},
   "source": [
    "### Introduction to Pandas and the `read_sql` Method\n",
    "\n",
    "**Pandas** is a powerful Python library for data manipulation and analysis. It provides easy-to-use data structures like DataFrames and Series, which allow for efficient handling and processing of structured data. Pandas is widely used in data science, machine learning, and data analytics.\n",
    "\n",
    "One of Pandas' strengths is its ability to seamlessly interact with SQL databases, enabling you to load query results directly into a DataFrame using the `read_sql` method. This method simplifies the process of querying databases and analyzing the results in Python.\n",
    "\n",
    "#### What is `read_sql`?\n",
    "The `pandas.read_sql()` method allows you to execute SQL queries on a database and retrieve the results as a Pandas DataFrame. It can be used to:\n",
    "1. Query data from a database.\n",
    "2. Load entire tables into a DataFrame.\n",
    "3. Perform complex SQL queries and integrate results with Python-based analysis.\n",
    "\n",
    "#### Basic Syntax\n",
    "```python\n",
    "pandas.read_sql(sql, con, index_col=None, coerce_float=True, params=None)\n",
    "```\n",
    "\n",
    "- **`sql`**: The SQL query or table name as a string.\n",
    "- **`con`**: A database connection object (e.g., SQLAlchemy engine).\n",
    "- **`index_col`**: Column(s) to set as the DataFrame index (optional).\n",
    "- **`params`**: Parameters to pass for parameterized queries (optional).\n",
    "\n",
    "#### Benefits of Using `read_sql`\n",
    "- Directly integrates SQL querying into your Python workflow.\n",
    "- Returns a DataFrame, which is ideal for further analysis and visualization in Python.\n",
    "- Supports parameterized queries for added security and flexibility.\n",
    "\n",
    "#### Documentation\n",
    "For a complete guide to the `read_sql` method, visit the [Pandas Documentation](https://pandas.pydata.org/pandas-docs/stable/reference/api/pandas.read_sql.html). \n",
    "\n",
    "This page provides detailed explanations, parameters, and examples to help you make the most of this method."
   ]
  },
  {
   "cell_type": "code",
   "execution_count": null,
   "metadata": {},
   "outputs": [],
   "source": [
    "# Run the following cell for an example how to use `pd.read_sql`\n",
    "\n",
    "import pandas as pd\n",
    "from sqlalchemy import create_engine\n",
    "\n",
    "# Define the database URL\n",
    "DATABASE_URL = \"sqlite:///university.db\"\n",
    "\n",
    "# Create the engine to connect to the database\n",
    "engine = create_engine(DATABASE_URL)\n",
    "\n",
    "# Test the connection by running a query to get table names\n",
    "query = \"SELECT name FROM sqlite_master where type = 'table';\"\n",
    "tables = pd.read_sql(query, engine)\n",
    "\n",
    "# Print the list of tables\n",
    "print(\"Connected to the database!\")\n",
    "print(\"Tables in the database:\")\n",
    "display(tables)"
   ]
  },
  {
   "cell_type": "markdown",
   "metadata": {},
   "source": [
    "### Count the Total Number of Students\n",
    "\n",
    "#### Directions:\n",
    "Write a SQL query in the space provided below to count the total number of students in the database. Use the `student_main` table for this task. Then run the cell to execute your query and display the result."
   ]
  },
  {
   "cell_type": "code",
   "execution_count": null,
   "metadata": {},
   "outputs": [],
   "source": [
    "## Complete the query to get the number of students in the `students` table\n",
    "student_count_query = \"\"\"\n",
    "##########################\n",
    "#  Write your query here #\n",
    "##########################\n",
    "\"\"\"\n",
    "\n",
    "## Do not edit the code below\n",
    "student_count_df = pd.read_sql(student_count_query, engine)\n",
    "\n",
    "# Display the result\n",
    "display(student_count_df)"
   ]
  },
  {
   "cell_type": "markdown",
   "metadata": {},
   "source": [
    "### Get All Honors Students in the Spring 2024 Term (202401)\n",
    "\n",
    "#### Directions:\n",
    "Write a SQL query in the space provided below to retrieve the details of all students who have the \"HNR\" attribute in the 202401 term. Use the `student_main` and `student_attributes` tables for this task. Return the student ID, last name, first name, address, and email address (if available). Then run the cell to execute your query and display the result."
   ]
  },
  {
   "cell_type": "code",
   "execution_count": null,
   "metadata": {},
   "outputs": [],
   "source": [
    "## Complete the query to get the `HNR` students in the 202401 term\n",
    "hnr_students_query = \"\"\"\n",
    "SELECT \n",
    "##########################\n",
    "#  Write your query here #\n",
    "##########################\n",
    "\"\"\"\n",
    "\n",
    "## Do not edit the code below\n",
    "hnr_students_df = pd.read_sql(hnr_students_query, engine)\n",
    "\n",
    "# Display the result\n",
    "display(hnr_students_df)\n"
   ]
  },
  {
   "cell_type": "markdown",
   "metadata": {},
   "source": [
    "### Get the Average GPA for All Students\n",
    "\n",
    "#### Directions:\n",
    "Write a SQL query in the space provided below to calculate the average GPA for all students in the database. Use the `student_grades` table to compute this value. Then run the cell to execute your query and display the result."
   ]
  },
  {
   "cell_type": "code",
   "execution_count": null,
   "metadata": {},
   "outputs": [],
   "source": [
    "## Complete the query to get the average GPA of all student grades for all terms\n",
    "\n",
    "average_gpa_query = \"\"\"\n",
    "##########################\n",
    "#  Write your query here #\n",
    "##########################\n",
    "\"\"\"\n",
    "\n",
    "## Do not edit the code below\n",
    "average_gpa_df = pd.read_sql(average_gpa_query, engine)\n",
    "\n",
    "# Display the result\n",
    "display(average_gpa_df)"
   ]
  },
  {
   "cell_type": "markdown",
   "metadata": {},
   "source": [
    "### Identify Under Performing Students by GPA in the 2024 Fall Term (202408)\n",
    "\n",
    "#### Directions:\n",
    "Write a SQL query in the space provided below to identify the students with GPAs below a 2.0 in the 2024 Fall term (term code: 202408). Use the `student_grades` and `student_main` tables. Include the student's ID, last name, first name, and GPA in your output. Then run the cell to execute your query and display the results."
   ]
  },
  {
   "cell_type": "code",
   "execution_count": null,
   "metadata": {},
   "outputs": [],
   "source": [
    "## Complete the query to get the students with below a 2.0 GPA in the 202408 term\n",
    "\n",
    "underperforming_students_query = \"\"\"\n",
    "##########################\n",
    "#  Write your query here #\n",
    "##########################\n",
    "\"\"\"\n",
    "\n",
    "## Do not edit the code below\n",
    "underperforming_students_df = pd.read_sql(underperforming_students_query, engine)\n",
    "\n",
    "# Display the result\n",
    "display(underperforming_students_df.head())"
   ]
  },
  {
   "cell_type": "markdown",
   "metadata": {},
   "source": [
    "## Get the Average Math Course Grads for Each Term Since 2019\n",
    "\n",
    "#### Directions:\n",
    "Write a SQL query in the space provided below to calculate the average GPA for all students in CS 1001 courses in the database. Use the `student_grades` and `courses` tables to compute this value. Return the term code and the average GPA, rounded to two places, for math courses in each term. Then run the cell to execute your query and display the results."
   ]
  },
  {
   "cell_type": "code",
   "execution_count": null,
   "metadata": {},
   "outputs": [],
   "source": [
    "## Complete the query to get the average grades for CS 1001 for all terms\n",
    "\n",
    "average_cs_1001_query = \"\"\"\n",
    "##########################\n",
    "#  Write your query here #\n",
    "##########################\n",
    "\"\"\"\n",
    "\n",
    "## Do not edit the code below\n",
    "average_cs_1001_df = pd.read_sql(average_cs_1001_query, engine)\n",
    "\n",
    "# Display the result\n",
    "display(average_cs_1001_df.head())"
   ]
  },
  {
   "cell_type": "markdown",
   "metadata": {},
   "source": [
    "## Create a Bar Plot of Average CS 1001 Grades Over Time\n",
    "\n",
    "#### Directions:\n",
    "Using the results from the previous query, create a bar plot showing the average GPA for CS 1001 courses over time. The x-axis should represent the term code, and the y-axis should display the average GPA. Label the axes appropriately and provide a title for the plot. You can use any Python data visualization library you prefer (e.g., Matplotlib, Seaborn, Plotly, etc.)."
   ]
  },
  {
   "cell_type": "code",
   "execution_count": null,
   "metadata": {},
   "outputs": [],
   "source": [
    "## Complete the code to generate the plot of the average GPA for CS 1001 for all terms\n",
    "\n",
    "##########################\n",
    "#  Write your code here  #\n",
    "##########################\n"
   ]
  },
  {
   "cell_type": "markdown",
   "metadata": {},
   "source": [
    "# Open-ended Analysis\n",
    "\n",
    "### Directions\n",
    "\n",
    "In this section, please explore the `university.db` database and conduct any additional analyses you find interesting. This is an opportunity to showcase your skills, creativity, and analytical thinking. Feel free to ask questions, propose new analyses, or present your findings in any format you prefer (e.g., tables, charts, written summaries).\n",
    "\n",
    "You can use SQL queries, Python code, data visualizations, or any other tools you find suitable for the task. Your analysis can cover topics like student performance, course enrollment trends, faculty characteristics, or any other aspect of the university data.\n",
    "\n",
    "### Possible Questions for Analysis\n",
    "\n",
    "Below are some example questions you might explore. Feel free to modify or expand on these based on your interests:\n",
    "\n",
    "#### GPA Analysis\n",
    "- Are there particular **courses**, **instructors**, or **student populations** that have significant deviations in GPA?\n",
    "- How do **average GPAs** differ across terms, courses, or majors?\n",
    "- What is the distribution of GPAs for students in honors (HNR) or English as a Second Language (ESL) programs?\n",
    "\n",
    "#### Enrollment Patterns\n",
    "- What are the **enrollment patterns** for courses by day and/or time?\n",
    "- Which courses have the **highest or lowest enrollments** across all terms?\n",
    "- How do enrollments differ across **delivery modes** (in-person, hybrid, online)?\n",
    "\n",
    "#### Instructor Impact\n",
    "- Do specific instructors have consistently **higher or lower average GPAs** in their courses?\n",
    "- How do full-time versus part-time instructors differ in terms of course GPA outcomes?\n",
    "\n",
    "#### Term Trends\n",
    "- Are there any **seasonal trends** in course enrollment or performance (e.g., winter vs. summer)?\n",
    "- What is the average number of courses taken by students in each term?\n",
    "\n",
    "#### Student Demographics\n",
    "- What percentage of students are enrolled in **honors** or **athletic programs** each term?\n",
    "- How does student performance differ by **gender** or **ethnicity**?\n",
    "\n",
    "#### Course Specific Analysis\n",
    "- What is the **most common combination** of courses taken by students in a given term?\n",
    "- How do **drop/withdrawal rates** vary by course, instructor, or term?"
   ]
  },
  {
   "cell_type": "code",
   "execution_count": null,
   "metadata": {},
   "outputs": [],
   "source": [
    "## Your open ended analysis goes here\n",
    "\n",
    "##########################\n",
    "#  Write your code here  #\n",
    "##########################"
   ]
  },
  {
   "cell_type": "markdown",
   "metadata": {},
   "source": [
    "# Finish\n",
    "\n",
    "### Submission Instructions\n",
    "Once you are finished with the analysis, please save the notebook and submit it for review. Follow the detailed instructions in the README.md file in the repository containing this notebook for submission guidelines. If you have any questions or need assistance, feel free to reach out to us. \n",
    "\n",
    "We appreciate your time and effort. Good luck, and we look forward to reviewing your work!"
   ]
  }
 ],
 "metadata": {
  "kernelspec": {
   "display_name": "university_db",
   "language": "python",
   "name": "python3"
  },
  "language_info": {
   "codemirror_mode": {
    "name": "ipython",
    "version": 3
   },
   "file_extension": ".py",
   "mimetype": "text/x-python",
   "name": "python",
   "nbconvert_exporter": "python",
   "pygments_lexer": "ipython3",
   "version": "3.10.16"
  }
 },
 "nbformat": 4,
 "nbformat_minor": 2
}
