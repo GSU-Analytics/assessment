{
 "cells": [
  {
   "cell_type": "code",
   "execution_count": null,
   "metadata": {},
   "outputs": [],
   "source": [
    "#################################\n",
    "# RUN ME FIRST TO LOAD FILES    #\n",
    "#################################\n",
    "\n",
    "!git clone https://github.com/GSU-Analytics/assessment"
   ]
  },
  {
   "cell_type": "markdown",
   "metadata": {},
   "source": [
    "# Introduction\n",
    "\n",
    "Welcome to the skill assessment notebook. These exercises evaluate your proficiency in SQL, Python, and data analysis.\n",
    "\n",
    "You can skip questions without penalty. Use resources like Google, code samples, or AI tools, but be ready to discuss your answers and approach during the interview.\n",
    "\n",
    "For questions, contact Isaac at ikerson@gsu.edu. Once finished, save the notebook and share the link with Isaac. We look forward to seeing your work!"
   ]
  },
  {
   "cell_type": "markdown",
   "metadata": {},
   "source": [
    "# Overview of `university.db`\n",
    "\n",
    "The `university.db` database is a mock SQLite database designed to simulate a collection of university data tables. It contains information about students, instructors, courses, grades, and more. This database is structured to provide realistic data for demonstrating data analysis skills.\n",
    "\n",
    "## Database Schema\n",
    "\n",
    "The database consists of the following tables:\n",
    "\n",
    "### 1. **`student_main`**\n",
    "- **Description**: Stores detailed information about students enrolled at the university.\n",
    "- **Key Columns**:\n",
    "  - `student_id`: Unique identifier for each student (primary key).\n",
    "  - `last_name`, `first_name`: Student's name details.\n",
    "  - `gender`, `ethnicity`: Demographic information.\n",
    "  - `address`, `us_citizen`, `us_resident`, `state_resident`: Residential and citizenship details.\n",
    "  - `pell_recipient`, `us_veteran`: Indicators for Pell Grant recipients and veteran status.\n",
    "- **Relationships**:\n",
    "  - Linked to `student_grades` through `student_id`.\n",
    "  - Linked to `student_attributes` through `student_id`.\n",
    "\n",
    "### 2. **`instructor_main`**\n",
    "- **Description**: Contains information about university instructors.\n",
    "- **Key Columns**:\n",
    "  - `employee_id`: Unique identifier for each instructor (primary key).\n",
    "  - `faculty_code`: Foreign key referencing `faculty_code_validation_table.faculty_code`, representing the faculty type (e.g., tenure-track, adjunct).\n",
    "  - `full_time_indicator`: Binary indicator for full-time (1) or part-time (0) status.\n",
    "- **Relationships**:\n",
    "  - Linked to `courses` through `employee_id`.\n",
    "\n",
    "### 3. **`faculty_code_validation_table`**\n",
    "- **Description**: A lookup table that validates and describes faculty codes.\n",
    "- **Key Columns**:\n",
    "  - `faculty_code`: Three-letter code for faculty type (primary key).\n",
    "  - `faculty_description`: Description of the faculty type.\n",
    "\n",
    "### 4. **`courses`**\n",
    "- **Description**: Represents the courses offered at the university.\n",
    "- **Key Columns**:\n",
    "  - `id`: Unique identifier for each course (primary key).\n",
    "  - `term_code`: Academic term (e.g., Fall 2023).\n",
    "  - `major_abbreviation`: Department offering the course (e.g., MATH, BIO).\n",
    "  - `course_number`, `section_code`: Course and section identifiers.\n",
    "  - `location_code`: Location where the course is held.\n",
    "  - `delivery_code`: Mode of instruction (In-person, Hybrid, Online).\n",
    "  - `credits`: Number of credit hours assigned to the course (1–3).\n",
    "  - `employee_id`: Foreign key referencing `instructor_main.employee_id`, indicating the instructor teaching the course.\n",
    "- **Relationships**:\n",
    "  - Linked to `instructor_main` through `employee_id`.\n",
    "  - Linked to `student_grades` through `section_code`.\n",
    "\n",
    "### 5. **`student_grades`**\n",
    "- **Description**: Records students' grades for courses.\n",
    "- **Key Columns**:\n",
    "  - `id`: Unique identifier for each grade record (primary key).\n",
    "  - `student_id`: Foreign key referencing `student_main.student_id`.\n",
    "  - `term_code`: Term during which the grade was earned.\n",
    "  - `section_code`: Foreign key referencing `courses.section_code`.\n",
    "  - `grade`: Grade received for the course.\n",
    "  - `withdrawal`: Binary indicator for course withdrawal (1 for withdrawal, 0 otherwise).\n",
    "- **Relationships**:\n",
    "  - Linked to `student_main` through `student_id`.\n",
    "  - Linked to `courses` through `section_code`.\n",
    "\n",
    "### 6. **`student_attributes`**\n",
    "- **Description**: Tracks additional attributes assigned to students for specific terms.\n",
    "- **Key Columns**:\n",
    "  - `id`: Unique identifier for each attribute record (primary key).\n",
    "  - `student_id`: Foreign key referencing `student_main.student_id`.\n",
    "  - `term_code`: Academic term for which the attribute applies.\n",
    "  - `attribute_code`: Foreign key referencing `attribute_code_validation_table.attribute_code`, indicating the assigned attribute (e.g., ESL, Honors).\n",
    "- **Relationships**:\n",
    "  - Linked to `student_main` through `student_id`.\n",
    "  - Linked to `attribute_code_validation_table` through `attribute_code`.\n",
    "\n",
    "### 7. **`attribute_code_validation_table`**\n",
    "- **Description**: A lookup table that validates and describes student attribute codes.\n",
    "- **Key Columns**:\n",
    "  - `attribute_code`: Three-letter code for student attributes (primary key).\n",
    "  - `attribute_description`: Description of the attribute.\n",
    "\n",
    "## Relationships Between Tables\n",
    "\n",
    "The tables and relationships in the `university.db` database detailed in the following schema diagram:\n",
    "\n",
    "![University Database Schema](schema_diagram.png)\n"
   ]
  },
  {
   "cell_type": "markdown",
   "metadata": {},
   "source": [
    "### Introduction to Pandas and the `read_sql` Method\n",
    "\n",
    "**Pandas** is a powerful Python library for data manipulation and analysis. It provides easy-to-use data structures like DataFrames and Series, which allow for efficient handling and processing of structured data. Pandas is widely used in data science, machine learning, and data analytics.\n",
    "\n",
    "One of Pandas' strengths is its ability to seamlessly interact with SQL databases, enabling you to load query results directly into a DataFrame using the `read_sql` method. This method simplifies the process of querying databases and analyzing the results in Python.\n",
    "\n",
    "#### What is `read_sql`?\n",
    "The `pandas.read_sql()` method allows you to execute SQL queries on a database and retrieve the results as a Pandas DataFrame. It can be used to:\n",
    "1. Query data from a database.\n",
    "2. Load entire tables into a DataFrame.\n",
    "3. Perform complex SQL queries and integrate results with Python-based analysis.\n",
    "\n",
    "#### Basic Syntax\n",
    "```python\n",
    "pandas.read_sql(sql, con, index_col=None, coerce_float=True, params=None)\n",
    "```\n",
    "\n",
    "- **`sql`**: The SQL query or table name as a string.\n",
    "- **`con`**: A database connection object (e.g., SQLAlchemy engine).\n",
    "- **`index_col`**: Column(s) to set as the DataFrame index (optional).\n",
    "- **`params`**: Parameters to pass for parameterized queries (optional).\n",
    "\n",
    "#### Benefits of Using `read_sql`\n",
    "- Directly integrates SQL querying into your Python workflow.\n",
    "- Returns a DataFrame, which is ideal for further analysis and visualization in Python.\n",
    "- Supports parameterized queries for added security and flexibility.\n",
    "\n",
    "#### Documentation\n",
    "For a complete guide to the `read_sql` method, visit the [Pandas Documentation](https://pandas.pydata.org/pandas-docs/stable/reference/api/pandas.read_sql.html). \n",
    "\n",
    "This page provides detailed explanations, parameters, and examples to help you make the most of this method."
   ]
  },
  {
   "cell_type": "code",
   "execution_count": null,
   "metadata": {},
   "outputs": [],
   "source": [
    "# Run the following cell for an example how to use `pd.read_sql`\n",
    "\n",
    "import pandas as pd\n",
    "from sqlalchemy import create_engine\n",
    "\n",
    "# Define the database URL\n",
    "DATABASE_URL = \"sqlite:///university.db\"\n",
    "\n",
    "# Create the engine to connect to the database\n",
    "engine = create_engine(DATABASE_URL)\n",
    "\n",
    "# Test the connection by running a query to get table names\n",
    "query = \"SELECT name FROM sqlite_master where type = 'table';\"\n",
    "tables = pd.read_sql(query, engine)\n",
    "\n",
    "# Print the list of tables\n",
    "print(\"Connected to the database!\")\n",
    "print(\"Tables in the database:\")\n",
    "display(tables)"
   ]
  },
  {
   "cell_type": "markdown",
   "metadata": {},
   "source": [
    "### Count the Total Number of Students\n",
    "\n",
    "#### Directions:\n",
    "Write a SQL query in the space provided below to count the total number of students in the database. Use the `student_main` table for this task. Then run the cell to execute your query and display the result."
   ]
  },
  {
   "cell_type": "code",
   "execution_count": null,
   "metadata": {},
   "outputs": [],
   "source": [
    "## Complete the query to get the number of students in the `students` table\n",
    "student_count_query = \"\"\"\n",
    "##########################\n",
    "#  Write your query here #\n",
    "##########################\n",
    "\"\"\"\n",
    "\n",
    "## Do not edit the code below\n",
    "student_count_df = pd.read_sql(student_count_query, engine)\n",
    "\n",
    "# Display the result\n",
    "display(student_count_df)"
   ]
  },
  {
   "cell_type": "markdown",
   "metadata": {},
   "source": [
    "### Get the Records of Pell Grant Recipients with an Email and a Last Name Starting with \"A\"\n",
    "\n",
    "#### Directions:\n",
    "Write a SQL query in the space provided below to retrieve the records of students who are Pell Grant recipients and have an email value as well a last name starting with the letter \"A\". Use the `student_main` table and filter on the `last_name`, `email`, and `pell_recipient` columns. Return the `student_id`, `last_name`, `first_name`, `email`, and `address` for each student. Then run the cell to execute your query and display the results."
   ]
  },
  {
   "cell_type": "code",
   "execution_count": null,
   "metadata": {},
   "outputs": [],
   "source": [
    "## Complete the query to get Pell Grant Recipients with a Last Name Starting with \"A\"\n",
    "pell_grant_query = \"\"\"\n",
    "##########################\n",
    "#  Write your query here #\n",
    "##########################\n",
    "\"\"\"\n",
    "\n",
    "## Do not edit the code below\n",
    "pell_grant_df = pd.read_sql(pell_grant_query, engine)\n",
    "\n",
    "# Display the result\n",
    "display(pell_grant_df.head())"
   ]
  },
  {
   "cell_type": "markdown",
   "metadata": {},
   "source": [
    "### Get the Average Number of Credits Students Took During Each Term in the Database\n",
    "\n",
    "#### Directions:\n",
    "Write a SQL query in the space provided below to calculate the average number of credits students took during each term. Use the `courses` table for this task. Then run the cell to execute your query and display the result."
   ]
  },
  {
   "cell_type": "code",
   "execution_count": null,
   "metadata": {},
   "outputs": [],
   "source": [
    "## Complete the query to get the average number of credits students took during each term\n",
    "average_credits_query = \"\"\"\n",
    "##########################\n",
    "#  Write your query here #\n",
    "##########################\n",
    "\"\"\"\n",
    "\n",
    "## Do not edit the code below\n",
    "average_credits_df = pd.read_sql(average_credits_query, engine)\n",
    "\n",
    "# Display the result\n",
    "display(average_credits_df)"
   ]
  },
  {
   "cell_type": "markdown",
   "metadata": {},
   "source": [
    "## Create a Bar Plot of Average Credits Over Time\n",
    "\n",
    "#### Directions:\n",
    "Using the results from the previous query, create a bar plot showing the average credits taken over time. The x-axis should represent the term code, and the y-axis should display the average credits. Label the axes appropriately and provide a title for the plot. You can use any Python data visualization library you prefer (e.g., Matplotlib, Seaborn, etc.)."
   ]
  },
  {
   "cell_type": "code",
   "execution_count": null,
   "metadata": {},
   "outputs": [],
   "source": [
    "##########################\n",
    "#  Write your code here  #\n",
    "##########################\n"
   ]
  },
  {
   "cell_type": "markdown",
   "metadata": {},
   "source": [
    "# Open-ended Analysis\n",
    "\n",
    "### Directions\n",
    "\n",
    "In this section, please explore the `university.db` database and conduct any additional analyses you find interesting. This is an opportunity to showcase your skills, creativity, and analytical thinking. Feel free to ask questions, propose new analyses, or present your findings in any format you prefer (e.g., tables, charts, written summaries).\n",
    "\n",
    "You can use SQL queries, Python code, data visualizations, or any other tools you find suitable for the task. Your analysis can cover topics like student performance, course enrollment trends, faculty characteristics, or any other aspect of the university data.\n",
    "\n",
    "### Possible Questions for Analysis\n",
    "\n",
    "Below are some example questions you might explore. They are only suggestions. You are **not** obligated to answer all or any of them. Pick one or come up with your own question to answer.\n",
    "\n",
    "#### Grade Analysis\n",
    "- Are there particular **courses**, **instructors**, or **student populations** that have significant deviations in outcomes?\n",
    "- How do **average grades** differ across terms, courses, or majors?\n",
    "- What is the distribution of grades for students in honors (HNR) or English as a Second Language (ESL) programs?\n",
    "\n",
    "#### Enrollment Patterns\n",
    "- What are the **enrollment patterns** for courses by day and/or time?\n",
    "- Which courses have the **highest or lowest enrollments** across all terms?\n",
    "- How do enrollments differ across **delivery modes** (in-person, hybrid, online)?\n",
    "\n",
    "#### Instructor Impact\n",
    "- Do specific instructors have consistently **higher or lower average grades** in their courses?\n",
    "- How do full-time versus part-time instructors differ in terms of course outcomes?\n",
    "\n",
    "#### Term Trends\n",
    "- Are there any **seasonal trends** in course enrollment or performance (e.g., winter vs. summer)?\n",
    "- What is the average number of courses taken by students in each term?\n",
    "\n",
    "#### Student Demographics\n",
    "- What percentage of students are enrolled in **honors** or **athletic programs** each term?\n",
    "- How does student performance differ by **gender** or **ethnicity**?\n",
    "\n",
    "#### Course Specific Analysis\n",
    "- What is the **most common combination** of courses taken by students in a given term?\n",
    "- How do **drop/withdrawal rates** vary by course, instructor, or term?"
   ]
  },
  {
   "cell_type": "code",
   "execution_count": null,
   "metadata": {},
   "outputs": [],
   "source": [
    "##########################\n",
    "#  Write your code here  #\n",
    "##########################"
   ]
  },
  {
   "cell_type": "markdown",
   "metadata": {},
   "source": [
    "# Finish\n",
    "\n",
    "### Submission Instructions\n",
    "Once you are finished with the analysis, please save the notebook and email the link to Isaac at ikerson@gsu.edu. If you have any questions or need assistance, feel free to reach to contact Isaac.\n",
    "\n",
    "We appreciate your time and effort. Good luck, and we look forward to discussing your work!"
   ]
  }
 ],
 "metadata": {
  "kernelspec": {
   "display_name": "university_db",
   "language": "python",
   "name": "python3"
  },
  "language_info": {
   "codemirror_mode": {
    "name": "ipython",
    "version": 3
   },
   "file_extension": ".py",
   "mimetype": "text/x-python",
   "name": "python",
   "nbconvert_exporter": "python",
   "pygments_lexer": "ipython3",
   "version": "3.10.16"
  }
 },
 "nbformat": 4,
 "nbformat_minor": 2
}
